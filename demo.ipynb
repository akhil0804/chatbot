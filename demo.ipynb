{
 "cells": [
  {
   "cell_type": "code",
   "execution_count": 2,
   "id": "ac468638",
   "metadata": {},
   "outputs": [
    {
     "name": "stdout",
     "output_type": "stream",
     "text": [
      "✅ Connected to MySQL\n",
      "{'name': 'AMS-ENQ-2022-00001', 'creation': datetime.datetime(2022, 11, 21, 15, 36, 57, 361195), 'modified': datetime.datetime(2022, 11, 21, 17, 20, 14, 99583), 'modified_by': 'Administrator', 'owner': 'info@aquamaristrading.com', 'docstatus': 0, 'idx': 0, 'naming_series': 'AMS-ENQ-.YYYY.-', 'opportunity_from': 'Customer', 'party_name': 'FREMONT MARINE SERVICES LLC', 'customer_name': 'FREMONT MARINE SERVICES LLC', 'status': 'Quotation', 'opportunity_type': 'Sales', 'source': None, 'opportunity_owner': None, 'sales_stage': 'Prospecting', 'expected_closing': None, 'probability': Decimal('100.000000000'), 'no_of_employees': '1-10', 'annual_revenue': Decimal('0E-9'), 'customer_group': 'Individual', 'industry': None, 'market_segment': None, 'website': None, 'city': None, 'state': None, 'country': 'United Arab Emirates', 'territory': 'United Arab Emirates', 'currency': 'AED', 'conversion_rate': Decimal('1.000000000'), 'opportunity_amount': Decimal('0E-9'), 'base_opportunity_amount': Decimal('0E-9'), 'company': 'AQUA MARIS SHIPS SUPPLY -(S.P.S - L.L.C)', 'campaign': None, 'transaction_date': datetime.date(2022, 11, 21), 'language': 'en', 'amended_from': None, 'title': 'FREMONT MARINE SERVICES LLC', 'first_response_time': None, 'order_lost_reason': None, 'contact_person': None, 'job_title': None, 'contact_email': None, 'contact_mobile': None, 'whatsapp': None, 'phone': None, 'phone_ext': None, 'customer_address': 'FREMONT MARINE SERVICES LLC-Billing', 'address_display': 'P.O. Box: 393861, Belhasa Compound\\nWH-11A, Al Quoz-3<br>Dubai<br>\\nDubai<br>United Arab Emirates<br>\\n', 'contact_display': None, 'base_total': Decimal('50.000000000'), 'total': Decimal('50.000000000'), '_user_tags': None, '_comments': None, '_assign': None, '_liked_by': None, '_seen': '[\"info@aquamaristrading.com\", \"Administrator\"]', 'customer_reference_no': 'ENQ 2235565', 'customer_reference_date': datetime.date(2022, 11, 21), 'ams_user_record_no': None, 'item_group': None, 'impa_number': None, 'with_items': 0, 'row': None, 'test': None, 'company_series': None, 'update_supplier_button': None, 'customer_details': None, 'readiness_percent': None, 'port_of_delivery': None, 'etd': None, 'vessel': None, 'sales_person': None, 'customer_department': None, 'purchaser': None, 'assigned_to_purchaser_on': None, 'warehouse': None, 'priority': None, 'location': None, 'email_quotation_request': None, 'delivery_location': None, 'reason': None, 'enquiry_type': None, 'number_of_days': '30', 'price_list': None, 'remarks_to_supplier': None, 'enquiry_remarks': None}\n",
      "{'name': 'AMS-ENQ-2022-00002', 'creation': datetime.datetime(2022, 11, 21, 16, 4, 14, 903430), 'modified': datetime.datetime(2022, 11, 21, 16, 16, 22, 347986), 'modified_by': 'info@aquamaristrading.com', 'owner': 'info@aquamaristrading.com', 'docstatus': 0, 'idx': 0, 'naming_series': 'AMS-ENQ-.YYYY.-', 'opportunity_from': 'Customer', 'party_name': 'FREMONT MARINE SERVICES LLC', 'customer_name': 'FREMONT MARINE SERVICES LLC', 'status': 'Quotation', 'opportunity_type': 'Sales', 'source': None, 'opportunity_owner': None, 'sales_stage': 'Prospecting', 'expected_closing': None, 'probability': Decimal('100.000000000'), 'no_of_employees': '1-10', 'annual_revenue': Decimal('0E-9'), 'customer_group': 'Individual', 'industry': None, 'market_segment': None, 'website': None, 'city': None, 'state': None, 'country': 'United Arab Emirates', 'territory': 'United Arab Emirates', 'currency': 'AED', 'conversion_rate': Decimal('1.000000000'), 'opportunity_amount': Decimal('0E-9'), 'base_opportunity_amount': Decimal('0E-9'), 'company': 'AQUA MARIS SHIPS SUPPLY -(S.P.S - L.L.C)', 'campaign': None, 'transaction_date': datetime.date(2022, 11, 21), 'language': 'en', 'amended_from': None, 'title': 'FREMONT MARINE SERVICES LLC', 'first_response_time': None, 'order_lost_reason': None, 'contact_person': None, 'job_title': None, 'contact_email': None, 'contact_mobile': None, 'whatsapp': None, 'phone': None, 'phone_ext': None, 'customer_address': 'FREMONT MARINE SERVICES LLC-Billing', 'address_display': 'P.O. Box: 393861, Belhasa Compound\\nWH-11A, Al Quoz-3<br>Dubai<br>\\nDubai<br>United Arab Emirates<br>\\n', 'contact_display': None, 'base_total': Decimal('0E-9'), 'total': Decimal('0E-9'), '_user_tags': None, '_comments': None, '_assign': None, '_liked_by': None, '_seen': '[\"info@aquamaristrading.com\"]', 'customer_reference_no': 'ENQ 2235636', 'customer_reference_date': datetime.date(2022, 11, 21), 'ams_user_record_no': None, 'item_group': None, 'impa_number': None, 'with_items': 0, 'row': None, 'test': None, 'company_series': None, 'update_supplier_button': None, 'customer_details': None, 'readiness_percent': None, 'port_of_delivery': None, 'etd': None, 'vessel': None, 'sales_person': None, 'customer_department': None, 'purchaser': None, 'assigned_to_purchaser_on': None, 'warehouse': None, 'priority': None, 'location': None, 'email_quotation_request': None, 'delivery_location': None, 'reason': None, 'enquiry_type': None, 'number_of_days': '30', 'price_list': None, 'remarks_to_supplier': None, 'enquiry_remarks': None}\n",
      "{'name': 'AMS-ENQ-2022-00003', 'creation': datetime.datetime(2022, 11, 21, 18, 24, 55, 72279), 'modified': datetime.datetime(2022, 11, 22, 11, 2, 33, 350314), 'modified_by': 'info@aquamaristrading.com', 'owner': 'info@aquamaristrading.com', 'docstatus': 0, 'idx': 0, 'naming_series': 'AMS-ENQ-.YYYY.-', 'opportunity_from': 'Customer', 'party_name': 'AL BARAKA SHIPCHANDLERS LLC', 'customer_name': 'AL BARAKA SHIPCHANDLERS LLC', 'status': 'Quotation', 'opportunity_type': 'Sales', 'source': None, 'opportunity_owner': None, 'sales_stage': 'Prospecting', 'expected_closing': None, 'probability': Decimal('100.000000000'), 'no_of_employees': '1-10', 'annual_revenue': Decimal('0E-9'), 'customer_group': 'Individual', 'industry': None, 'market_segment': None, 'website': None, 'city': None, 'state': None, 'country': 'United Arab Emirates', 'territory': 'United Arab Emirates', 'currency': 'AED', 'conversion_rate': Decimal('1.000000000'), 'opportunity_amount': Decimal('0E-9'), 'base_opportunity_amount': Decimal('0E-9'), 'company': 'AQUA MARIS SHIPS SUPPLY -(S.P.S - L.L.C)', 'campaign': None, 'transaction_date': datetime.date(2022, 11, 21), 'language': 'en', 'amended_from': None, 'title': 'AL BARAKA SHIPCHANDLERS LLC', 'first_response_time': None, 'order_lost_reason': None, 'contact_person': None, 'job_title': None, 'contact_email': None, 'contact_mobile': None, 'whatsapp': None, 'phone': None, 'phone_ext': None, 'customer_address': 'AL BARAKA SHIPCHANDLERS LLC-Billing', 'address_display': 'AL BARAKA SHIPCHANDLERS LLC<br>Dubai<br>\\nUnited Arab Emirates<br>\\nPhone: 971505778083<br>', 'contact_display': None, 'base_total': Decimal('0E-9'), 'total': Decimal('0E-9'), '_user_tags': None, '_comments': None, '_assign': None, '_liked_by': None, '_seen': '[\"info@aquamaristrading.com\", \"Administrator\"]', 'customer_reference_no': 'INQ1', 'customer_reference_date': datetime.date(2022, 11, 21), 'ams_user_record_no': None, 'item_group': None, 'impa_number': None, 'with_items': 0, 'row': None, 'test': None, 'company_series': None, 'update_supplier_button': None, 'customer_details': None, 'readiness_percent': None, 'port_of_delivery': None, 'etd': None, 'vessel': None, 'sales_person': None, 'customer_department': None, 'purchaser': None, 'assigned_to_purchaser_on': None, 'warehouse': None, 'priority': None, 'location': None, 'email_quotation_request': None, 'delivery_location': None, 'reason': None, 'enquiry_type': None, 'number_of_days': '30', 'price_list': None, 'remarks_to_supplier': None, 'enquiry_remarks': None}\n",
      "{'name': 'AMS-ENQ-2022-00004', 'creation': datetime.datetime(2022, 11, 21, 18, 45, 32, 589875), 'modified': datetime.datetime(2022, 12, 15, 14, 50, 40, 883231), 'modified_by': 'midhun@aquamaristrading.com', 'owner': 'info@aquamaristrading.com', 'docstatus': 0, 'idx': 0, 'naming_series': 'AMS-ENQ-.YYYY.-', 'opportunity_from': 'Customer', 'party_name': 'AL BARAKA SHIPCHANDLERS LLC', 'customer_name': 'AL BARAKA SHIPCHANDLERS LLC', 'status': 'Quotation', 'opportunity_type': 'Sales', 'source': None, 'opportunity_owner': None, 'sales_stage': 'Prospecting', 'expected_closing': None, 'probability': Decimal('100.000000000'), 'no_of_employees': '1-10', 'annual_revenue': Decimal('0E-9'), 'customer_group': 'Individual', 'industry': None, 'market_segment': None, 'website': None, 'city': None, 'state': None, 'country': 'United Arab Emirates', 'territory': 'United Arab Emirates', 'currency': 'AED', 'conversion_rate': Decimal('1.000000000'), 'opportunity_amount': Decimal('0E-9'), 'base_opportunity_amount': Decimal('0E-9'), 'company': 'AQUA MARIS SHIPS SUPPLY -(S.P.S - L.L.C)', 'campaign': None, 'transaction_date': datetime.date(2022, 11, 21), 'language': 'en', 'amended_from': None, 'title': 'AL BARAKA SHIPCHANDLERS LLC', 'first_response_time': None, 'order_lost_reason': None, 'contact_person': None, 'job_title': None, 'contact_email': None, 'contact_mobile': None, 'whatsapp': None, 'phone': None, 'phone_ext': None, 'customer_address': 'AL BARAKA SHIPCHANDLERS LLC-Billing', 'address_display': 'AL BARAKA SHIPCHANDLERS LLC<br>Dubai<br>\\nUnited Arab Emirates<br>\\nPhone: 971505778083<br>', 'contact_display': None, 'base_total': Decimal('0E-9'), 'total': Decimal('0E-9'), '_user_tags': None, '_comments': None, '_assign': None, '_liked_by': None, '_seen': '[\"info@aquamaristrading.com\", \"midhun@aquamaristrading.com\"]', 'customer_reference_no': ' ENQ/DRG', 'customer_reference_date': datetime.date(2022, 11, 21), 'ams_user_record_no': None, 'item_group': None, 'impa_number': None, 'with_items': 0, 'row': None, 'test': None, 'company_series': None, 'update_supplier_button': None, 'customer_details': None, 'readiness_percent': None, 'port_of_delivery': None, 'etd': None, 'vessel': None, 'sales_person': None, 'customer_department': None, 'purchaser': None, 'assigned_to_purchaser_on': None, 'warehouse': None, 'priority': None, 'location': None, 'email_quotation_request': None, 'delivery_location': None, 'reason': None, 'enquiry_type': None, 'number_of_days': '30', 'price_list': None, 'remarks_to_supplier': None, 'enquiry_remarks': None}\n",
      "{'name': 'AMS-ENQ-2022-00005', 'creation': datetime.datetime(2022, 11, 22, 9, 44, 34, 281978), 'modified': datetime.datetime(2022, 11, 22, 10, 16, 57, 213398), 'modified_by': 'info@aquamaristrading.com', 'owner': 'info@aquamaristrading.com', 'docstatus': 0, 'idx': 0, 'naming_series': 'AMS-ENQ-.YYYY.-', 'opportunity_from': 'Customer', 'party_name': 'FREMONT MARINE SERVICES LLC', 'customer_name': 'FREMONT MARINE SERVICES LLC', 'status': 'Open', 'opportunity_type': 'Sales', 'source': None, 'opportunity_owner': None, 'sales_stage': 'Prospecting', 'expected_closing': None, 'probability': Decimal('100.000000000'), 'no_of_employees': '1-10', 'annual_revenue': Decimal('0E-9'), 'customer_group': 'Individual', 'industry': None, 'market_segment': None, 'website': None, 'city': None, 'state': None, 'country': 'United Arab Emirates', 'territory': 'United Arab Emirates', 'currency': 'AED', 'conversion_rate': Decimal('1.000000000'), 'opportunity_amount': Decimal('0E-9'), 'base_opportunity_amount': Decimal('0E-9'), 'company': 'AQUA MARIS SHIPS SUPPLY -(S.P.S - L.L.C)', 'campaign': None, 'transaction_date': datetime.date(2022, 11, 22), 'language': 'en', 'amended_from': None, 'title': 'FREMONT MARINE SERVICES LLC', 'first_response_time': None, 'order_lost_reason': None, 'contact_person': None, 'job_title': None, 'contact_email': None, 'contact_mobile': None, 'whatsapp': None, 'phone': None, 'phone_ext': None, 'customer_address': 'FREMONT MARINE SERVICES LLC-Billing', 'address_display': 'P.O. Box: 393861, Belhasa Compound\\nWH-11A, Al Quoz-3<br>Dubai<br>\\nDubai<br>United Arab Emirates<br>\\n', 'contact_display': None, 'base_total': Decimal('0E-9'), 'total': Decimal('0E-9'), '_user_tags': None, '_comments': None, '_assign': None, '_liked_by': None, '_seen': '[\"info@aquamaristrading.com\", \"Administrator\"]', 'customer_reference_no': 'ENQ 2235714', 'customer_reference_date': datetime.date(2022, 11, 21), 'ams_user_record_no': None, 'item_group': None, 'impa_number': None, 'with_items': 0, 'row': None, 'test': None, 'company_series': None, 'update_supplier_button': None, 'customer_details': None, 'readiness_percent': None, 'port_of_delivery': None, 'etd': None, 'vessel': None, 'sales_person': None, 'customer_department': None, 'purchaser': None, 'assigned_to_purchaser_on': None, 'warehouse': None, 'priority': None, 'location': None, 'email_quotation_request': None, 'delivery_location': None, 'reason': None, 'enquiry_type': None, 'number_of_days': '30', 'price_list': None, 'remarks_to_supplier': None, 'enquiry_remarks': None}\n",
      "🔒 Connection closed\n"
     ]
    }
   ],
   "source": [
    "import pymysql\n",
    "\n",
    "HOST = \"139.59.65.232\"\n",
    "PORT = 3306\n",
    "USER = \"avuadmin\"\n",
    "PASSWORD = \"qwedsa@123\"\n",
    "DATABASE = \"aquaerp\"   # or aquaerp\n",
    "\n",
    "conn = None\n",
    "try:\n",
    "    # Connect\n",
    "    conn = pymysql.connect(\n",
    "        host=HOST,\n",
    "        port=PORT,\n",
    "        user=USER,\n",
    "        password=PASSWORD,\n",
    "        database=DATABASE,\n",
    "        charset=\"utf8mb4\",\n",
    "        cursorclass=pymysql.cursors.DictCursor\n",
    "    )\n",
    "    print(\"✅ Connected to MySQL\")\n",
    "\n",
    "    # Run a query\n",
    "    with conn.cursor() as cur:\n",
    "        # cur.execute(\"SHOW TABLES;\")\n",
    "        # print(\"📋 Tables:\", cur.fetchall())\n",
    "\n",
    "        cur.execute(\"SELECT * FROM `tabOpportunity` LIMIT 5;\")\n",
    "        for row in cur.fetchall():\n",
    "            print(row)\n",
    "\n",
    "except Exception as e:\n",
    "    print(\"❌ Error:\", e)\n",
    "\n",
    "finally:\n",
    "    if conn:\n",
    "        conn.close()\n",
    "        print(\"🔒 Connection closed\")"
   ]
  },
  {
   "cell_type": "code",
   "execution_count": 2,
   "id": "73b67173",
   "metadata": {},
   "outputs": [
    {
     "name": "stdout",
     "output_type": "stream",
     "text": [
      "The meaning of life is a profound question that has been explored by philosophers, theologians, scientists, and thinkers for centuries. Different perspectives offer various interpretations:\n",
      "\n",
      "1. **Philosophical Perspective**: Some philosophical views suggest that life has no inherent meaning, and it is up to each individual to create their own purpose and meaning through experiences, relationships, and personal growth.\n",
      "\n",
      "2. **Religious Perspective**: Many religious traditions offer interpretations of life's meaning based on divine purpose, spiritual growth, and adherence to certain moral or ethical codes. These perspectives often emphasize the importance of a higher power or afterlife.\n",
      "\n",
      "3. **Scientific Perspective**: From a scientific standpoint, life can be seen as a series of biological processes. The meaning of life, in this context, may relate to survival, reproduction, and the continuation of life.\n",
      "\n",
      "4. **Existential Perspective**: Existentialists argue that life has no predetermined meaning, and individuals must confront the inherent absurdity of life by creating their own meaning through authentic choices and actions.\n",
      "\n",
      "Ultimately, the meaning of life is subjective and can vary greatly from person to person. It often involves a combination of personal beliefs, values, experiences, and goals.\n"
     ]
    }
   ],
   "source": [
    "from openai import OpenAI\n",
    "\n",
    "client = OpenAI(\n",
    "  base_url=\"https://openrouter.ai/api/v1\",\n",
    "  api_key=\"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\",\n",
    ")\n",
    "\n",
    "completion = client.chat.completions.create(\n",
    "\n",
    "  model=\"openai/gpt-4o\",\n",
    "  messages=[\n",
    "    {\n",
    "      \"role\": \"user\",\n",
    "      \"content\": \"What is the meaning of life?\"\n",
    "    }\n",
    "  ],\n",
    "  temperature=0.7\n",
    ")\n",
    "\n",
    "print(completion.choices[0].message.content)\n"
   ]
  },
  {
   "cell_type": "code",
   "execution_count": null,
   "id": "5ebaa647",
   "metadata": {},
   "outputs": [],
   "source": []
  },
  {
   "cell_type": "markdown",
   "id": "58bd5ecb",
   "metadata": {},
   "source": []
  },
  {
   "cell_type": "code",
   "execution_count": null,
   "id": "5e1a6a57",
   "metadata": {},
   "outputs": [],
   "source": []
  },
  {
   "cell_type": "code",
   "execution_count": 3,
   "id": "f08e9937",
   "metadata": {},
   "outputs": [
    {
     "ename": "OperationalError",
     "evalue": "(2003, \"Can't connect to MySQL server on '139.59.65.232' ([Errno 61] Connection refused)\")",
     "output_type": "error",
     "traceback": [
      "\u001b[31m---------------------------------------------------------------------------\u001b[39m",
      "\u001b[31mConnectionRefusedError\u001b[39m                    Traceback (most recent call last)",
      "\u001b[36mFile \u001b[39m\u001b[32m~/Documents/W3-chat/chat_bot_1/.venv/lib/python3.13/site-packages/pymysql/connections.py:649\u001b[39m, in \u001b[36mConnection.connect\u001b[39m\u001b[34m(self, sock)\u001b[39m\n\u001b[32m    648\u001b[39m \u001b[38;5;28;01mtry\u001b[39;00m:\n\u001b[32m--> \u001b[39m\u001b[32m649\u001b[39m     sock = \u001b[43msocket\u001b[49m\u001b[43m.\u001b[49m\u001b[43mcreate_connection\u001b[49m\u001b[43m(\u001b[49m\n\u001b[32m    650\u001b[39m \u001b[43m        \u001b[49m\u001b[43m(\u001b[49m\u001b[38;5;28;43mself\u001b[39;49m\u001b[43m.\u001b[49m\u001b[43mhost\u001b[49m\u001b[43m,\u001b[49m\u001b[43m \u001b[49m\u001b[38;5;28;43mself\u001b[39;49m\u001b[43m.\u001b[49m\u001b[43mport\u001b[49m\u001b[43m)\u001b[49m\u001b[43m,\u001b[49m\u001b[43m \u001b[49m\u001b[38;5;28;43mself\u001b[39;49m\u001b[43m.\u001b[49m\u001b[43mconnect_timeout\u001b[49m\u001b[43m,\u001b[49m\u001b[43m \u001b[49m\u001b[43m*\u001b[49m\u001b[43m*\u001b[49m\u001b[43mkwargs\u001b[49m\n\u001b[32m    651\u001b[39m \u001b[43m    \u001b[49m\u001b[43m)\u001b[49m\n\u001b[32m    652\u001b[39m     \u001b[38;5;28;01mbreak\u001b[39;00m\n",
      "\u001b[36mFile \u001b[39m\u001b[32m/opt/homebrew/Cellar/python@3.13/3.13.1/Frameworks/Python.framework/Versions/3.13/lib/python3.13/socket.py:864\u001b[39m, in \u001b[36mcreate_connection\u001b[39m\u001b[34m(address, timeout, source_address, all_errors)\u001b[39m\n\u001b[32m    863\u001b[39m \u001b[38;5;28;01mif\u001b[39;00m \u001b[38;5;129;01mnot\u001b[39;00m all_errors:\n\u001b[32m--> \u001b[39m\u001b[32m864\u001b[39m     \u001b[38;5;28;01mraise\u001b[39;00m exceptions[\u001b[32m0\u001b[39m]\n\u001b[32m    865\u001b[39m \u001b[38;5;28;01mraise\u001b[39;00m ExceptionGroup(\u001b[33m\"\u001b[39m\u001b[33mcreate_connection failed\u001b[39m\u001b[33m\"\u001b[39m, exceptions)\n",
      "\u001b[36mFile \u001b[39m\u001b[32m/opt/homebrew/Cellar/python@3.13/3.13.1/Frameworks/Python.framework/Versions/3.13/lib/python3.13/socket.py:849\u001b[39m, in \u001b[36mcreate_connection\u001b[39m\u001b[34m(address, timeout, source_address, all_errors)\u001b[39m\n\u001b[32m    848\u001b[39m     sock.bind(source_address)\n\u001b[32m--> \u001b[39m\u001b[32m849\u001b[39m \u001b[43msock\u001b[49m\u001b[43m.\u001b[49m\u001b[43mconnect\u001b[49m\u001b[43m(\u001b[49m\u001b[43msa\u001b[49m\u001b[43m)\u001b[49m\n\u001b[32m    850\u001b[39m \u001b[38;5;66;03m# Break explicitly a reference cycle\u001b[39;00m\n",
      "\u001b[31mConnectionRefusedError\u001b[39m: [Errno 61] Connection refused",
      "\nDuring handling of the above exception, another exception occurred:\n",
      "\u001b[31mOperationalError\u001b[39m                          Traceback (most recent call last)",
      "\u001b[36mCell\u001b[39m\u001b[36m \u001b[39m\u001b[32mIn[3]\u001b[39m\u001b[32m, line 3\u001b[39m\n\u001b[32m      1\u001b[39m \u001b[38;5;28;01mimport\u001b[39;00m\u001b[38;5;250m \u001b[39m\u001b[34;01mpymysql\u001b[39;00m\n\u001b[32m----> \u001b[39m\u001b[32m3\u001b[39m conn = \u001b[43mpymysql\u001b[49m\u001b[43m.\u001b[49m\u001b[43mconnect\u001b[49m\u001b[43m(\u001b[49m\n\u001b[32m      4\u001b[39m \u001b[43m    \u001b[49m\u001b[43mhost\u001b[49m\u001b[43m=\u001b[49m\u001b[33;43m\"\u001b[39;49m\u001b[33;43m139.59.65.232\u001b[39;49m\u001b[33;43m\"\u001b[39;49m\u001b[43m,\u001b[49m\n\u001b[32m      5\u001b[39m \u001b[43m    \u001b[49m\u001b[43mport\u001b[49m\u001b[43m=\u001b[49m\u001b[32;43m3307\u001b[39;49m\u001b[43m,\u001b[49m\n\u001b[32m      6\u001b[39m \u001b[43m    \u001b[49m\u001b[43muser\u001b[49m\u001b[43m=\u001b[49m\u001b[33;43m\"\u001b[39;49m\u001b[33;43mavuadmin\u001b[39;49m\u001b[33;43m\"\u001b[39;49m\u001b[43m,\u001b[49m\n\u001b[32m      7\u001b[39m \u001b[43m    \u001b[49m\u001b[43mpassword\u001b[49m\u001b[43m=\u001b[49m\u001b[33;43m\"\u001b[39;49m\u001b[33;43mqwedsa@123\u001b[39;49m\u001b[33;43m\"\u001b[39;49m\u001b[43m,\u001b[49m\n\u001b[32m      8\u001b[39m \u001b[43m    \u001b[49m\u001b[43mdatabase\u001b[49m\u001b[43m=\u001b[49m\u001b[33;43m\"\u001b[39;49m\u001b[33;43maquamaries\u001b[39;49m\u001b[33;43m\"\u001b[39;49m\n\u001b[32m      9\u001b[39m \u001b[43m)\u001b[49m\n\u001b[32m     10\u001b[39m cur = conn.cursor()\n\u001b[32m     11\u001b[39m cur.execute(\u001b[33m\"\u001b[39m\u001b[33mSHOW TABLES;\u001b[39m\u001b[33m\"\u001b[39m)\n",
      "\u001b[36mFile \u001b[39m\u001b[32m~/Documents/W3-chat/chat_bot_1/.venv/lib/python3.13/site-packages/pymysql/connections.py:361\u001b[39m, in \u001b[36mConnection.__init__\u001b[39m\u001b[34m(self, user, password, host, database, unix_socket, port, charset, collation, sql_mode, read_default_file, conv, use_unicode, client_flag, cursorclass, init_command, connect_timeout, read_default_group, autocommit, local_infile, max_allowed_packet, defer_connect, auth_plugin_map, read_timeout, write_timeout, bind_address, binary_prefix, program_name, server_public_key, ssl, ssl_ca, ssl_cert, ssl_disabled, ssl_key, ssl_key_password, ssl_verify_cert, ssl_verify_identity, compress, named_pipe, passwd, db)\u001b[39m\n\u001b[32m    359\u001b[39m     \u001b[38;5;28mself\u001b[39m._sock = \u001b[38;5;28;01mNone\u001b[39;00m\n\u001b[32m    360\u001b[39m \u001b[38;5;28;01melse\u001b[39;00m:\n\u001b[32m--> \u001b[39m\u001b[32m361\u001b[39m     \u001b[38;5;28;43mself\u001b[39;49m\u001b[43m.\u001b[49m\u001b[43mconnect\u001b[49m\u001b[43m(\u001b[49m\u001b[43m)\u001b[49m\n",
      "\u001b[36mFile \u001b[39m\u001b[32m~/Documents/W3-chat/chat_bot_1/.venv/lib/python3.13/site-packages/pymysql/connections.py:716\u001b[39m, in \u001b[36mConnection.connect\u001b[39m\u001b[34m(self, sock)\u001b[39m\n\u001b[32m    714\u001b[39m     \u001b[38;5;28;01mif\u001b[39;00m DEBUG:\n\u001b[32m    715\u001b[39m         \u001b[38;5;28mprint\u001b[39m(exc.traceback)\n\u001b[32m--> \u001b[39m\u001b[32m716\u001b[39m     \u001b[38;5;28;01mraise\u001b[39;00m exc\n\u001b[32m    718\u001b[39m \u001b[38;5;66;03m# If e is neither DatabaseError or IOError, It's a bug.\u001b[39;00m\n\u001b[32m    719\u001b[39m \u001b[38;5;66;03m# But raising AssertionError hides original error.\u001b[39;00m\n\u001b[32m    720\u001b[39m \u001b[38;5;66;03m# So just reraise it.\u001b[39;00m\n\u001b[32m    721\u001b[39m \u001b[38;5;28;01mraise\u001b[39;00m\n",
      "\u001b[31mOperationalError\u001b[39m: (2003, \"Can't connect to MySQL server on '139.59.65.232' ([Errno 61] Connection refused)\")"
     ]
    }
   ],
   "source": [
    "import pymysql\n",
    "\n",
    "conn = pymysql.connect(\n",
    "    host=\"139.59.65.232\",\n",
    "    port=3307,\n",
    "    user=\"avuadmin\",\n",
    "    password=\"qwedsa@123\",\n",
    "    database=\"aquamaries\"\n",
    ")\n",
    "cur = conn.cursor()\n",
    "cur.execute(\"SHOW TABLES;\")\n",
    "print(cur.fetchall())"
   ]
  },
  {
   "cell_type": "code",
   "execution_count": 10,
   "id": "4dbf234b",
   "metadata": {},
   "outputs": [
    {
     "name": "stdout",
     "output_type": "stream",
     "text": [
      "Collecting paramiko==2.12.0\n",
      "  Downloading paramiko-2.12.0-py2.py3-none-any.whl.metadata (4.6 kB)\n",
      "Requirement already satisfied: bcrypt>=3.1.3 in ./.venv/lib/python3.13/site-packages (from paramiko==2.12.0) (4.3.0)\n",
      "Requirement already satisfied: cryptography>=2.5 in ./.venv/lib/python3.13/site-packages (from paramiko==2.12.0) (45.0.6)\n",
      "Requirement already satisfied: pynacl>=1.0.1 in ./.venv/lib/python3.13/site-packages (from paramiko==2.12.0) (1.5.0)\n",
      "Requirement already satisfied: six in ./.venv/lib/python3.13/site-packages (from paramiko==2.12.0) (1.17.0)\n",
      "Requirement already satisfied: cffi>=1.14 in ./.venv/lib/python3.13/site-packages (from cryptography>=2.5->paramiko==2.12.0) (1.17.1)\n",
      "Requirement already satisfied: pycparser in ./.venv/lib/python3.13/site-packages (from cffi>=1.14->cryptography>=2.5->paramiko==2.12.0) (2.22)\n",
      "Downloading paramiko-2.12.0-py2.py3-none-any.whl (213 kB)\n",
      "Installing collected packages: paramiko\n",
      "Successfully installed paramiko-2.12.0\n",
      "Note: you may need to restart the kernel to use updated packages.\n"
     ]
    }
   ],
   "source": [
    "pip install paramiko==2.12.0"
   ]
  },
  {
   "cell_type": "code",
   "execution_count": 1,
   "id": "fb212d5a",
   "metadata": {},
   "outputs": [
    {
     "name": "stdout",
     "output_type": "stream",
     "text": [
      "99\n"
     ]
    }
   ],
   "source": [
    "arr= [1,2,3,4,6,77,6,8,99]\n",
    "print(max(arr))"
   ]
  },
  {
   "cell_type": "code",
   "execution_count": null,
   "id": "4db29038",
   "metadata": {},
   "outputs": [],
   "source": [
    "sentance = \"I am Akhil\"\n"
   ]
  },
  {
   "cell_type": "code",
   "execution_count": null,
   "id": "a6ff2df0",
   "metadata": {},
   "outputs": [
    {
     "ename": "_IncompleteInputError",
     "evalue": "incomplete input (2290224931.py, line 2)",
     "output_type": "error",
     "traceback": [
      "  \u001b[36mCell\u001b[39m\u001b[36m \u001b[39m\u001b[32mIn[3]\u001b[39m\u001b[32m, line 2\u001b[39m\n\u001b[31m    \u001b[39m\n    ^\n\u001b[31m_IncompleteInputError\u001b[39m\u001b[31m:\u001b[39m incomplete input\n"
     ]
    }
   ],
   "source": [
    "def first_non_repeating(s):\n",
    "    s = s.replace(\" \",\"\")\n",
    "    freq = {}\n"
   ]
  },
  {
   "cell_type": "code",
   "execution_count": null,
   "id": "e6a7b638",
   "metadata": {},
   "outputs": [],
   "source": []
  }
 ],
 "metadata": {
  "kernelspec": {
   "display_name": ".venv",
   "language": "python",
   "name": "python3"
  },
  "language_info": {
   "codemirror_mode": {
    "name": "ipython",
    "version": 3
   },
   "file_extension": ".py",
   "mimetype": "text/x-python",
   "name": "python",
   "nbconvert_exporter": "python",
   "pygments_lexer": "ipython3",
   "version": "3.13.1"
  }
 },
 "nbformat": 4,
 "nbformat_minor": 5
}
